{
 "cells": [
  {
   "cell_type": "markdown",
   "id": "b2e527d4-4f09-4f7e-b7e8-633aab17d150",
   "metadata": {},
   "source": [
    "# Image classifier using PyTorch"
   ]
  },
  {
   "cell_type": "code",
   "execution_count": null,
   "id": "43385e34-338f-4f17-97f6-83279c9bd22b",
   "metadata": {},
   "outputs": [],
   "source": [
    "# Get data\n",
    "# Build model\n",
    "# Train model\n",
    "# Test model"
   ]
  },
  {
   "cell_type": "code",
   "execution_count": null,
   "id": "6b8f0cc8-01f9-4453-a3dd-2d27bb9684fa",
   "metadata": {},
   "outputs": [],
   "source": [
    "import torch\n",
    "from torch import nn\n",
    "from torch.utils.data import DataLoader\n",
    "from torchvision import datasets, transforms\n",
    "import matplotlib.pyplot as plt"
   ]
  },
  {
   "cell_type": "code",
   "execution_count": null,
   "id": "9b1bf62d-64f6-4447-8363-ef015cd65201",
   "metadata": {},
   "outputs": [],
   "source": []
  },
  {
   "cell_type": "markdown",
   "id": "81231427-bdc8-4012-9711-b2fcc2997b71",
   "metadata": {},
   "source": [
    "# Get train data"
   ]
  },
  {
   "cell_type": "code",
   "execution_count": null,
   "id": "37a63559-6496-44ab-930c-d705a36f9969",
   "metadata": {},
   "outputs": [],
   "source": [
    "# With transform\n",
    "train_data = datasets.MNIST(\n",
    "    root=\"data\",\n",
    "    train=True,\n",
    "    download=True,\n",
    "    transform=transforms.ToTensor())"
   ]
  },
  {
   "cell_type": "code",
   "execution_count": null,
   "id": "b1be24b2-88eb-4f50-85a1-41cecdc6613a",
   "metadata": {},
   "outputs": [],
   "source": [
    "type(train_data[0][0])"
   ]
  },
  {
   "cell_type": "code",
   "execution_count": null,
   "id": "8159fb48-e1d7-4c76-82f2-b8cba5148b57",
   "metadata": {},
   "outputs": [],
   "source": [
    "train_data[0][0].min()"
   ]
  },
  {
   "cell_type": "code",
   "execution_count": null,
   "id": "2e522724-b044-4590-8f89-69b27d066aaa",
   "metadata": {},
   "outputs": [],
   "source": [
    "train_data[0][0].max()"
   ]
  },
  {
   "cell_type": "code",
   "execution_count": null,
   "id": "a4947c82-c2e7-4e12-bf42-42a6c1a09dd6",
   "metadata": {},
   "outputs": [],
   "source": [
    "train_data[0][0].dtype"
   ]
  },
  {
   "cell_type": "code",
   "execution_count": null,
   "id": "fbedd4b2-2077-485c-97b3-3e8ad8248989",
   "metadata": {},
   "outputs": [],
   "source": [
    "train_data[0][0].shape"
   ]
  },
  {
   "cell_type": "code",
   "execution_count": null,
   "id": "00eee86b-41d1-41a5-951d-f3a86558c98b",
   "metadata": {},
   "outputs": [],
   "source": [
    "train_data[0][0][0][20]"
   ]
  },
  {
   "cell_type": "code",
   "execution_count": null,
   "id": "22f1a3fa-d8fb-4704-bcc2-e2b60e0adfd0",
   "metadata": {},
   "outputs": [],
   "source": []
  },
  {
   "cell_type": "markdown",
   "id": "764dc136-a2b3-4a81-802d-c2ec50d8ff98",
   "metadata": {},
   "source": [
    "# Get test data"
   ]
  },
  {
   "cell_type": "code",
   "execution_count": null,
   "id": "a8d03cb7-ddf8-43d3-b019-71044aea19df",
   "metadata": {},
   "outputs": [],
   "source": [
    "# With transform\n",
    "test_data = datasets.MNIST(\n",
    "    root=\"data\",\n",
    "    train=False,\n",
    "    download=True,\n",
    "    transform=transforms.ToTensor()\n",
    ")"
   ]
  },
  {
   "cell_type": "code",
   "execution_count": null,
   "id": "9ca5a061-1d9e-451d-9f35-64254b3bc678",
   "metadata": {},
   "outputs": [],
   "source": [
    "type(train_data[0][0])"
   ]
  },
  {
   "cell_type": "code",
   "execution_count": null,
   "id": "983a01e1-915b-4c33-904c-7780e4a226f5",
   "metadata": {},
   "outputs": [],
   "source": [
    "test_data[0][0].shape"
   ]
  },
  {
   "cell_type": "code",
   "execution_count": null,
   "id": "1e6277d3-0284-4f08-927c-1f5b32b5f4b3",
   "metadata": {},
   "outputs": [],
   "source": [
    "test_data[0][0][0][20]"
   ]
  },
  {
   "cell_type": "code",
   "execution_count": null,
   "id": "c736f6bc-bd2c-4451-8b4b-00178768e80e",
   "metadata": {},
   "outputs": [],
   "source": []
  },
  {
   "cell_type": "code",
   "execution_count": null,
   "id": "55dc748e-11f0-4ce0-83df-aa164f2c5558",
   "metadata": {},
   "outputs": [],
   "source": [
    "# Map label index to label name\n",
    "labels_map = {\n",
    "    0: \"T-Shirt\",\n",
    "    1: \"Trouser\",\n",
    "    2: \"Pullover\",\n",
    "    3: \"Dress\",\n",
    "    4: \"Coat\",\n",
    "    5: \"Sandal\",\n",
    "    6: \"Shirt\",\n",
    "    7: \"Sneaker\",\n",
    "    8: \"Bag\",\n",
    "    9: \"Ankle Boot\",\n",
    "}"
   ]
  },
  {
   "cell_type": "code",
   "execution_count": null,
   "id": "d0fc850a-47e3-42fe-855d-d66439f405ba",
   "metadata": {},
   "outputs": [],
   "source": [
    "# Show samples\n",
    "figure = plt.figure(figsize=(8, 8))\n",
    "cols, rows = 3, 3\n",
    "for i in range(1, cols * rows + 1):\n",
    "    sample_idx = torch.randint(len(train_data), size=(1,)).item()\n",
    "    img, label = train_data[sample_idx]\n",
    "    figure.add_subplot(rows, cols, i)\n",
    "    plt.title(labels_map[label])\n",
    "    plt.axis(\"off\")\n",
    "    plt.imshow(img.squeeze(), cmap=\"gray\")\n",
    "plt.show()"
   ]
  },
  {
   "cell_type": "code",
   "execution_count": null,
   "id": "149ae992-ed66-48eb-9ac8-640c5d6f2005",
   "metadata": {},
   "outputs": [],
   "source": []
  },
  {
   "cell_type": "code",
   "execution_count": null,
   "id": "c71b507a-c208-4177-b500-db64c9aea8c5",
   "metadata": {},
   "outputs": [],
   "source": [
    "# Dataloaders\n",
    "batch_size = 64\n",
    "\n",
    "# Create data loaders.\n",
    "train_dataloader = DataLoader(train_data, batch_size=batch_size)\n",
    "test_dataloader = DataLoader(test_data, batch_size=batch_size)\n",
    "\n",
    "for X, y in test_dataloader:\n",
    "    print(f\"Shape of X [N, C, H, W]: {X.shape}\")\n",
    "    print(f\"Shape of y: {y.shape} {y.dtype}\")\n",
    "    break"
   ]
  },
  {
   "cell_type": "code",
   "execution_count": null,
   "id": "2e66b787-a4c5-4420-92a1-02128e3f4eae",
   "metadata": {},
   "outputs": [],
   "source": []
  },
  {
   "cell_type": "code",
   "execution_count": null,
   "id": "319d0ea1-70a3-4eeb-9a27-d073d14928df",
   "metadata": {},
   "outputs": [],
   "source": []
  },
  {
   "cell_type": "code",
   "execution_count": null,
   "id": "cf5b08f8-8aac-4c01-ae6a-a24ac72011b1",
   "metadata": {},
   "outputs": [],
   "source": [
    "# Choose device\n",
    "device = (\"cuda\" if torch.cuda.is_available()\n",
    "          else \"mps\" if torch.backends.mps.is_available()\n",
    "          else \"cpu\")\n",
    "print('DEVICE=', device)"
   ]
  },
  {
   "cell_type": "code",
   "execution_count": null,
   "id": "f9ebc62c-124f-4edb-b4ed-27d54a0208a9",
   "metadata": {},
   "outputs": [],
   "source": []
  },
  {
   "cell_type": "markdown",
   "id": "33766d8d-1c8b-4395-9b30-8057b59c83f7",
   "metadata": {},
   "source": [
    "# Layers used to build model"
   ]
  },
  {
   "cell_type": "code",
   "execution_count": null,
   "id": "1d81ea0c-9dd5-4d96-94f5-40c212fe6c86",
   "metadata": {},
   "outputs": [],
   "source": [
    "# Data\n",
    "X = torch.rand(1, 3, 2, device=device)\n",
    "print(X)\n"
   ]
  },
  {
   "cell_type": "code",
   "execution_count": null,
   "id": "389d2825-97dd-4a6f-8a51-af472f01ef9d",
   "metadata": {},
   "outputs": [],
   "source": [
    "# Flatten\n",
    "l = nn.Flatten()\n",
    "X = l(X)\n",
    "print(X)\n"
   ]
  },
  {
   "cell_type": "code",
   "execution_count": null,
   "id": "9531565f-4250-4d0e-bbe2-dd56fb899043",
   "metadata": {},
   "outputs": [],
   "source": [
    "# Linear\n",
    "l =  nn.Linear(in_features=3*2, out_features=4)\n",
    "X = l(X)\n",
    "print(X)\n"
   ]
  },
  {
   "cell_type": "code",
   "execution_count": null,
   "id": "690d79a2-a16c-4287-960d-7585a8e96f20",
   "metadata": {},
   "outputs": [],
   "source": [
    "# ReLU\n",
    "l =  nn.ReLU()\n",
    "X = l(X)\n",
    "print(X)\n"
   ]
  },
  {
   "cell_type": "code",
   "execution_count": null,
   "id": "3aea7a0c-2582-47c2-b3e9-faa28680132c",
   "metadata": {},
   "outputs": [],
   "source": [
    "# Sequential\n",
    "seq_modules = nn.Sequential(\n",
    "    nn.Flatten(),\n",
    "    nn.Linear(6, 4),\n",
    "    nn.ReLU(),\n",
    "    nn.Linear(4, 2)\n",
    ")\n",
    "input_image = torch.rand(1,3,2)\n",
    "logits = seq_modules(input_image)\n",
    "print('logits',logits.shape, logits)"
   ]
  },
  {
   "cell_type": "code",
   "execution_count": null,
   "id": "e25af98c-d143-440c-afbd-5217108ddc82",
   "metadata": {},
   "outputs": [],
   "source": [
    "# Softmax\n",
    "l =  nn.Softmax(dim=1)\n",
    "pred_probability = l(logits)\n",
    "print('pred_probability=', pred_probability)"
   ]
  },
  {
   "cell_type": "code",
   "execution_count": null,
   "id": "3b9e393c-845d-4ed1-b068-5b794fb67c34",
   "metadata": {},
   "outputs": [],
   "source": []
  },
  {
   "cell_type": "code",
   "execution_count": null,
   "id": "a524ed7a-ff74-4434-a80e-0d359b85fabb",
   "metadata": {},
   "outputs": [],
   "source": []
  },
  {
   "cell_type": "markdown",
   "id": "335b81d4-e297-4c93-b7d6-69a18a8d1b8a",
   "metadata": {},
   "source": [
    "# Build model"
   ]
  },
  {
   "cell_type": "code",
   "execution_count": null,
   "id": "70469b32-a7b7-4876-895a-7859d49d3c27",
   "metadata": {},
   "outputs": [],
   "source": [
    "# Create a class that inherits from nn.Module\n",
    "# Define the layers of the network in the __init__ function\n",
    "# Specify how data will pass through the network in the forward function\n",
    "# To accelerate operations in the neural network, we move it to the GPU if available"
   ]
  },
  {
   "cell_type": "code",
   "execution_count": null,
   "id": "448bdff9-8e21-40f5-a4fa-676b0296cf9f",
   "metadata": {},
   "outputs": [],
   "source": [
    "# Define neural network\n",
    "class Net(nn.Module):\n",
    "    def __init__(self):\n",
    "        super().__init__()\n",
    "        self.flatten = nn.Flatten() # Flattens input to vector\n",
    "        self.linear_relu_stack = nn.Sequential(  # Applies sequence of Linear and ReLU layers\n",
    "            nn.Linear(28*28, 512),\n",
    "            nn.ReLU(),\n",
    "            nn.Linear(512, 512),\n",
    "            nn.ReLU(),\n",
    "            nn.Linear(512, 10),\n",
    "        )\n",
    "\n",
    "    def forward(self, x):\n",
    "        x = self.flatten(x)\n",
    "        logits = self.linear_relu_stack(x)\n",
    "        return logits"
   ]
  },
  {
   "cell_type": "code",
   "execution_count": null,
   "id": "83acf787-3f3b-46bc-be61-94e7f6cfead7",
   "metadata": {},
   "outputs": [],
   "source": [
    "model = Net().to(device)"
   ]
  },
  {
   "cell_type": "code",
   "execution_count": null,
   "id": "2c2e8ea4-04f8-4af4-98eb-39106aca475d",
   "metadata": {},
   "outputs": [],
   "source": [
    "model"
   ]
  },
  {
   "cell_type": "code",
   "execution_count": null,
   "id": "fe6cce3a-f016-4702-9776-9e93b2e46cba",
   "metadata": {},
   "outputs": [],
   "source": []
  },
  {
   "cell_type": "code",
   "execution_count": null,
   "id": "d4a09fac-465d-4964-9274-a516de2487b7",
   "metadata": {},
   "outputs": [],
   "source": [
    "# Pass random input through model\n",
    "X = torch.rand(1, 28, 28, device=device)\n",
    "print('X=', type(X), X.shape, X.dtype)\n",
    "\n",
    "logits = model(X)\n",
    "print('logits=', type(logits), logits.shape, logits.dtype)\n",
    "\n",
    "y_prob = nn.Softmax(dim=1)(logits)\n",
    "print('y_prob=', type(y_prob), y_prob.shape, y_prob.dtype, y_prob)\n",
    "\n",
    "y_pred = y_prob.argmax(1)\n",
    "print(f\"Predicted class: {y_pred}\")"
   ]
  },
  {
   "cell_type": "code",
   "execution_count": null,
   "id": "82acca60-5e48-4f30-b05c-b0efb9c88c4c",
   "metadata": {},
   "outputs": [],
   "source": []
  },
  {
   "cell_type": "code",
   "execution_count": null,
   "id": "7f630e62-e0c4-4949-8b5b-ba2d5fc03114",
   "metadata": {},
   "outputs": [],
   "source": [
    "# Params\n",
    "for name, param in model.named_parameters():\n",
    "    print(f\"Layer: {name} | Size: {param.size()} | Values : {param[:2]} \\n\")"
   ]
  },
  {
   "cell_type": "code",
   "execution_count": null,
   "id": "aec7f26e-aa4f-4a84-ab7a-18fd7c02acba",
   "metadata": {},
   "outputs": [],
   "source": []
  },
  {
   "cell_type": "markdown",
   "id": "d598302f-4dbb-403f-b495-5bbe8a7cd592",
   "metadata": {},
   "source": [
    "# Loss function and Optimizer"
   ]
  },
  {
   "cell_type": "code",
   "execution_count": null,
   "id": "24f85b9b-6eaa-4dc1-9b4f-d1dd01189252",
   "metadata": {},
   "outputs": [],
   "source": [
    "loss_fn = nn.CrossEntropyLoss()\n",
    "optimizer = torch.optim.SGD(model.parameters(), lr=1e-3)"
   ]
  },
  {
   "cell_type": "code",
   "execution_count": null,
   "id": "4e0bd5bb-f812-407e-9de3-e0649bfdae63",
   "metadata": {},
   "outputs": [],
   "source": []
  },
  {
   "cell_type": "markdown",
   "id": "ca131bde-0820-4e92-a0a1-fe4c90513452",
   "metadata": {},
   "source": [
    "# Train model"
   ]
  },
  {
   "cell_type": "code",
   "execution_count": null,
   "id": "4ea8ce30-3cbb-448b-8a45-115c97275e45",
   "metadata": {},
   "outputs": [],
   "source": []
  },
  {
   "cell_type": "code",
   "execution_count": null,
   "id": "bb3b9b7e-19d6-4269-bce8-d3fdcbbe3bb1",
   "metadata": {},
   "outputs": [],
   "source": [
    "# In a single training loop, the model makes predictions on the training dataset (fed to it in batches), \n",
    "# and backpropagates the prediction error to adjust the model’s parameters.\n",
    "\n",
    "def train(dataloader, model, loss_fn, optimizer):\n",
    "    size = len(dataloader.dataset)\n",
    "    model.train()\n",
    "    for batch, (X, y) in enumerate(dataloader):\n",
    "        X, y = X.to(device), y.to(device)\n",
    "\n",
    "        # Compute prediction error\n",
    "        pred = model(X)\n",
    "        loss = loss_fn(pred, y)\n",
    "\n",
    "        # Backpropagation\n",
    "        loss.backward()\n",
    "        optimizer.step()\n",
    "        optimizer.zero_grad()\n",
    "\n",
    "        if batch % 100 == 0:\n",
    "            loss, current = loss.item(), (batch + 1) * len(X)\n",
    "            print(f\"loss: {loss:>7f}  [{current:>5d}/{size:>5d}]\")\n"
   ]
  },
  {
   "cell_type": "code",
   "execution_count": null,
   "id": "44fc760c-45fa-43da-91b9-0b66a18bc63e",
   "metadata": {},
   "outputs": [],
   "source": []
  },
  {
   "cell_type": "code",
   "execution_count": null,
   "id": "8712d043-0d55-4b71-aa0f-4da8f9c8f5a8",
   "metadata": {},
   "outputs": [],
   "source": [
    "# We also check the model’s performance against the test dataset to ensure it is learning.\n",
    "\n",
    "def test(dataloader, model, loss_fn):\n",
    "    size = len(dataloader.dataset)\n",
    "    num_batches = len(dataloader)\n",
    "    model.eval()\n",
    "    test_loss, correct = 0, 0\n",
    "    with torch.no_grad():\n",
    "        for X, y in dataloader:\n",
    "            X, y = X.to(device), y.to(device)\n",
    "            pred = model(X)\n",
    "            test_loss += loss_fn(pred, y).item()\n",
    "            correct += (pred.argmax(1) == y).type(torch.float).sum().item()\n",
    "    test_loss /= num_batches\n",
    "    correct /= size\n",
    "    print(f\"Test Error: \\n Accuracy: {(100*correct):>0.1f}%, Avg loss: {test_loss:>8f} \\n\")"
   ]
  },
  {
   "cell_type": "code",
   "execution_count": null,
   "id": "ed0cfd82-127a-450c-aa02-5ce166c2e656",
   "metadata": {},
   "outputs": [],
   "source": []
  },
  {
   "cell_type": "code",
   "execution_count": null,
   "id": "f4c24e55-7f65-47a9-9537-f9bc8c12e24f",
   "metadata": {
    "scrolled": true
   },
   "outputs": [],
   "source": [
    "# The training process is conducted over several iterations (epochs). \n",
    "# During each epoch, the model learns parameters to make better predictions. \n",
    "# We print the model’s accuracy and loss at each epoch\n",
    "# we’d like to see the accuracy increase and the loss decrease with every epoch.\n",
    "\n",
    "epochs = 2\n",
    "\n",
    "for t in range(epochs):\n",
    "    print(f\"Epoch {t+1}\\n-------------------------------\")\n",
    "    \n",
    "    train(train_dataloader, model, loss_fn, optimizer)\n",
    "    test(test_dataloader, model, loss_fn)\n",
    "print(\"Done!\")\n"
   ]
  },
  {
   "cell_type": "code",
   "execution_count": null,
   "id": "ddbca754-1dbe-4fa1-b214-e3c2cea7befb",
   "metadata": {},
   "outputs": [],
   "source": []
  },
  {
   "cell_type": "markdown",
   "id": "f59b31d6-e1e3-4d06-8950-8d8033b1caca",
   "metadata": {},
   "source": [
    "# Save model"
   ]
  },
  {
   "cell_type": "code",
   "execution_count": null,
   "id": "99e39068-ffcf-4003-a124-b507055e361e",
   "metadata": {},
   "outputs": [],
   "source": [
    "torch.save(model.state_dict(), \"model.pth\")\n",
    "print(\"Saved PyTorch Model State to model.pth\")"
   ]
  },
  {
   "cell_type": "markdown",
   "id": "690fc1f9-f98e-4ade-a3cc-95f98e84ff10",
   "metadata": {},
   "source": [
    "# Load model"
   ]
  },
  {
   "cell_type": "code",
   "execution_count": null,
   "id": "ab9c4978-4051-4cbe-9dc6-9951b605048e",
   "metadata": {},
   "outputs": [],
   "source": [
    "model = Net().to(device)\n",
    "model.load_state_dict(torch.load(\"model.pth\", weights_only=True))"
   ]
  },
  {
   "cell_type": "code",
   "execution_count": null,
   "id": "ec61e3be-4243-41eb-b5e2-e86f81fdaad1",
   "metadata": {},
   "outputs": [],
   "source": []
  },
  {
   "cell_type": "markdown",
   "id": "e8a730f1-6878-4252-a360-ed105c0f9986",
   "metadata": {},
   "source": [
    "# Make predictions"
   ]
  },
  {
   "cell_type": "code",
   "execution_count": null,
   "id": "4011a6dc-f390-4aee-a37a-63336e0277b5",
   "metadata": {},
   "outputs": [],
   "source": [
    "classes = [\n",
    "    \"T-shirt/top\",\n",
    "    \"Trouser\",\n",
    "    \"Pullover\",\n",
    "    \"Dress\",\n",
    "    \"Coat\",\n",
    "    \"Sandal\",\n",
    "    \"Shirt\",\n",
    "    \"Sneaker\",\n",
    "    \"Bag\",\n",
    "    \"Ankle boot\",\n",
    "]\n",
    "\n",
    "model.eval()\n",
    "x, y = test_data[0][0], test_data[0][1]\n",
    "with torch.no_grad():\n",
    "    x = x.to(device)\n",
    "    pred = model(x)\n",
    "    predicted, actual = classes[pred[0].argmax(0)], classes[y]\n",
    "    print(f'Predicted: \"{predicted}\", Actual: \"{actual}\"')"
   ]
  },
  {
   "cell_type": "code",
   "execution_count": null,
   "id": "c2af9bbc-075c-4faf-ba64-d2858046ea33",
   "metadata": {},
   "outputs": [],
   "source": []
  }
 ],
 "metadata": {
  "kernelspec": {
   "display_name": "ptenv",
   "language": "python",
   "name": "ptenv"
  },
  "language_info": {
   "codemirror_mode": {
    "name": "ipython",
    "version": 3
   },
   "file_extension": ".py",
   "mimetype": "text/x-python",
   "name": "python",
   "nbconvert_exporter": "python",
   "pygments_lexer": "ipython3",
   "version": "3.12.7"
  }
 },
 "nbformat": 4,
 "nbformat_minor": 5
}
